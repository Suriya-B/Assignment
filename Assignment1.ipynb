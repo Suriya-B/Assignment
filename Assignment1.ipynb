{
 "cells": [
  {
   "cell_type": "code",
   "execution_count": 18,
   "metadata": {},
   "outputs": [
    {
     "name": "stdout",
     "output_type": "stream",
     "text": [
      "The lable name : 1 and the prediction of 1 is y\n",
      "the total is1\n",
      "the correct value is 1\n",
      "The lable name : 2 and the prediction of 2 is n\n",
      "the total is2\n",
      "The lable name : 3 and the prediction of 3 is y\n",
      "the total is3\n",
      "the correct value is 2\n",
      "The lable name : 4 and the prediction of 4 is n\n",
      "the total is4\n",
      "The lable name : 5 and the prediction of 5 is n\n",
      "the total is5\n",
      "The lable name : 6 and the prediction of 6 is y\n",
      "the total is6\n",
      "the correct value is 3\n",
      "The accuracy is 0.5\n"
     ]
    }
   ],
   "source": [
    "#creating a function accuracyPrediction\n",
    "\n",
    "def accuracyPrediction(y_true,y_pred):\n",
    "    \n",
    "    correct=0\n",
    "    total=0\n",
    "    for i in range(len(y_true)):        \n",
    "        print('The lable name : '+str(y_true[i])+' and the prediction of '+str(y_true[i])+' is '+y_pred[i])\n",
    "        total=total+1\n",
    "        print('the total is'+str(total))\n",
    "        if y_pred[i]=='y':\n",
    "            correct=correct+1\n",
    "            print('the correct value is '+str(correct))\n",
    "    accuracy=correct/total\n",
    "    return accuracy    \n",
    "    \n",
    "    #accuracy=number of correctly predicted labels in y_pred / total number of labels\n",
    "\n",
    "x=[1,2,3,4,5,6]\n",
    "y=['y','n','y','n','n','y']\n",
    "\n",
    "accuracy=accuracyPrediction(x,y)\n",
    "print('The accuracy is '+str(accuracy))\n",
    "    \n",
    "        \n",
    "    "
   ]
  },
  {
   "cell_type": "code",
   "execution_count": null,
   "metadata": {},
   "outputs": [],
   "source": []
  }
 ],
 "metadata": {
  "kernelspec": {
   "display_name": "Python 3",
   "language": "python",
   "name": "python3"
  },
  "language_info": {
   "codemirror_mode": {
    "name": "ipython",
    "version": 3
   },
   "file_extension": ".py",
   "mimetype": "text/x-python",
   "name": "python",
   "nbconvert_exporter": "python",
   "pygments_lexer": "ipython3",
   "version": "3.8.3"
  }
 },
 "nbformat": 4,
 "nbformat_minor": 4
}
