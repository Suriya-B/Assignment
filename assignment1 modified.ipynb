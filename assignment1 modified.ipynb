{
 "cells": [
  {
   "cell_type": "code",
   "execution_count": 1,
   "metadata": {},
   "outputs": [
    {
     "name": "stdout",
     "output_type": "stream",
     "text": [
      "enter the total number of true variables(0 for no variables) 2\n",
      "\n",
      "Enter the True value 0\n",
      "\n",
      "The predicted value for 0 is 0\n",
      "\n",
      "Enter the True value 1\n",
      "\n",
      "The predicted value for 1 is 0\n",
      "\n",
      "The true values are [0, 1]\n",
      "\n",
      "The predicted values are [0, 0]\n",
      "\n",
      "The accuracy is 0.5\n"
     ]
    }
   ],
   "source": [
    "import sys, random\n",
    "\n",
    "def accuracyPrediction(y_true,y_pred):\n",
    "    correct=0\n",
    "    total=0\n",
    "    for i in range(len(y_true)):        \n",
    "        total=total+1\n",
    "        \n",
    "        if y_pred[i]==y_true[i]:\n",
    "            correct=correct+1\n",
    "            \n",
    "    accuracy=correct/total\n",
    "    return accuracy\n",
    "\n",
    "n=int(input('enter the total number of true variables(0 for no variables) '))\n",
    "if n==0:\n",
    "    sys.exit()\n",
    "\n",
    "else:\n",
    "    x=[]\n",
    "    y=[]\n",
    "    for i in range(n):\n",
    "        a=int(input(\"\\nEnter the True value \"))\n",
    "        x.append(a)\n",
    "        y.append(random.randint(0,1))\n",
    "        print(\"\\nThe predicted value for %s is %s\"%(x[i],y[i]))\n",
    "    print(\"\\nThe true values are \"+str(x))\n",
    "    print(\"\\nThe predicted values are \"+str(y))\n",
    "    accuracy=accuracyPrediction(x,y)\n",
    "    print(\"\\nThe accuracy is \"+str(accuracy))\n",
    "    "
   ]
  },
  {
   "cell_type": "code",
   "execution_count": null,
   "metadata": {},
   "outputs": [],
   "source": []
  }
 ],
 "metadata": {
  "kernelspec": {
   "display_name": "Python 3",
   "language": "python",
   "name": "python3"
  },
  "language_info": {
   "codemirror_mode": {
    "name": "ipython",
    "version": 3
   },
   "file_extension": ".py",
   "mimetype": "text/x-python",
   "name": "python",
   "nbconvert_exporter": "python",
   "pygments_lexer": "ipython3",
   "version": "3.8.3"
  }
 },
 "nbformat": 4,
 "nbformat_minor": 4
}
